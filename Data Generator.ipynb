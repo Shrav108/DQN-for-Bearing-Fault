{
 "cells": [
  {
   "cell_type": "markdown",
   "id": "44373bb9",
   "metadata": {},
   "source": [
    "### Import Libraries"
   ]
  },
  {
   "cell_type": "code",
   "execution_count": 1,
   "id": "60fce9a9",
   "metadata": {},
   "outputs": [],
   "source": [
    "import pywt \n",
    "import numpy as np\n",
    "import matplotlib.pyplot as plt\n",
    "import scipy.io as sio\n",
    "import os, shutil\n",
    "import time"
   ]
  },
  {
   "cell_type": "markdown",
   "id": "14e9223e",
   "metadata": {},
   "source": [
    "### Define Parameters"
   ]
  },
  {
   "cell_type": "code",
   "execution_count": 2,
   "id": "e18ba80f",
   "metadata": {},
   "outputs": [],
   "source": [
    "NUM_FOLDERS = 2000"
   ]
  },
  {
   "cell_type": "markdown",
   "id": "7b335ef2",
   "metadata": {},
   "source": [
    "### Generate Folders to Store Data"
   ]
  },
  {
   "cell_type": "code",
   "execution_count": null,
   "id": "4acb7ccb",
   "metadata": {},
   "outputs": [],
   "source": [
    "def generate_folders(num_folders, name_folder):\n",
    "    for i in range(1, num_folders+1):\n",
    "        try:\n",
    "            path = f'Data/{name_folder}_{i}'\n",
    "            os.makedirs(path)\n",
    "        except:\n",
    "            print('FILE EXISTS! THEREFORE DELETING')\n",
    "            shutil.rmtree(path)\n",
    "            os.makedirs(path)"
   ]
  },
  {
   "cell_type": "code",
   "execution_count": null,
   "id": "10d083bb",
   "metadata": {},
   "outputs": [],
   "source": [
    "generate_folders(num_folders=NUM_FOLDERS, name_folder='Batch')"
   ]
  },
  {
   "cell_type": "markdown",
   "id": "1816cdeb",
   "metadata": {},
   "source": [
    "### Generate Scalogram Data"
   ]
  },
  {
   "cell_type": "code",
   "execution_count": 4,
   "id": "5d16580a",
   "metadata": {},
   "outputs": [],
   "source": [
    "def create_data(data_dir, list_names, n_signals, action_value, num_folders):\n",
    "    scale = np.arange(1, 65)\n",
    "    for name in list_names:\n",
    "        start = time.time()\n",
    "        data = sio.loadmat(data_dir + f'{name}'+'.mat')\n",
    "        if name < 100:\n",
    "            de_data = data[f'X0{name}_DE_time']\n",
    "        else:\n",
    "            de_data = data[f'X{name}_DE_time']\n",
    "        \n",
    "        num_img = de_data.shape[0]//n_signals\n",
    "        num_train = int(num_img*0.95)\n",
    "        print(f'{name}.mat ===> Total Images: {num_img}')\n",
    "        j=1\n",
    "        for i in range(num_img-1):\n",
    "            if j > num_folders:\n",
    "                j=1\n",
    "            sig = de_data[i*n_signals:(i+1)*n_signals, 0]\n",
    "            scalogram, _ = pywt.cwt(sig, scale, 'mexh')\n",
    "            if i <=num_train:\n",
    "                plt.imsave(f'Data/Batch_{j}/{action_value}_{name}_{i}.jpeg', scalogram, cmap=plt.cm.jet, origin='lower')\n",
    "            else:\n",
    "                plt.imsave(f'Data/Test/{action_value}_{name}_{i}.jpeg', scalogram, cmap=plt.cm.jet, origin='lower')\n",
    "            j+=1\n",
    "        end = time.time()\n",
    "        print(f'=====> Time Needed for {name}.mat: ', (end-start)/60, ' minutes')"
   ]
  },
  {
   "cell_type": "markdown",
   "id": "b70c8090",
   "metadata": {},
   "source": [
    "### Normal Data"
   ]
  },
  {
   "cell_type": "code",
   "execution_count": 5,
   "id": "29623262",
   "metadata": {},
   "outputs": [],
   "source": [
    "li_names = [97, 98, 99, 100]"
   ]
  },
  {
   "cell_type": "code",
   "execution_count": 6,
   "id": "27c715d6",
   "metadata": {},
   "outputs": [
    {
     "name": "stdout",
     "output_type": "stream",
     "text": [
      "97.mat ===> Total Images: 3811\n",
      "=====> Time Needed for 97.mat:  0.6016073584556579  minutes\n",
      "98.mat ===> Total Images: 7560\n",
      "=====> Time Needed for 98.mat:  1.0460243503252664  minutes\n",
      "99.mat ===> Total Images: 7579\n",
      "=====> Time Needed for 99.mat:  1.0191240787506104  minutes\n",
      "100.mat ===> Total Images: 7588\n",
      "=====> Time Needed for 100.mat:  1.0265736858050027  minutes\n"
     ]
    }
   ],
   "source": [
    "create_data(data_dir='Normal/', list_names=li_names, n_signals=64, action_value=0, num_folders=NUM_FOLDERS)"
   ]
  },
  {
   "cell_type": "markdown",
   "id": "e7f75be4",
   "metadata": {},
   "source": [
    "### Inner Race Images"
   ]
  },
  {
   "cell_type": "code",
   "execution_count": 7,
   "id": "d094861f",
   "metadata": {},
   "outputs": [],
   "source": [
    "li_names = [105, 106, 107, 108, 169, 170, 171, 172, 209, 210, 211, 212, 56, 57, 58, 59]"
   ]
  },
  {
   "cell_type": "code",
   "execution_count": 46,
   "id": "9c9ea8b3",
   "metadata": {},
   "outputs": [],
   "source": [
    "li_names = [56, 57, 58, 59]"
   ]
  },
  {
   "cell_type": "code",
   "execution_count": 47,
   "id": "df5c31a0",
   "metadata": {},
   "outputs": [
    {
     "name": "stdout",
     "output_type": "stream",
     "text": [
      "56.mat ===> Total Images: 1887\n",
      "=====> Time Needed for 56.mat:  0.2901934822400411  minutes\n",
      "57.mat ===> Total Images: 1896\n",
      "=====> Time Needed for 57.mat:  0.2863205671310425  minutes\n",
      "58.mat ===> Total Images: 1896\n",
      "=====> Time Needed for 58.mat:  0.2994314153989156  minutes\n",
      "59.mat ===> Total Images: 1898\n",
      "=====> Time Needed for 59.mat:  0.29216906627019246  minutes\n"
     ]
    }
   ],
   "source": [
    "create_data(data_dir='Inner Race/', list_names=li_names, n_signals=64, action_value=1, num_folders=NUM_FOLDERS)"
   ]
  },
  {
   "cell_type": "markdown",
   "id": "274eda31",
   "metadata": {},
   "source": [
    "### Ball Images"
   ]
  },
  {
   "cell_type": "code",
   "execution_count": 17,
   "id": "d07f23a2",
   "metadata": {},
   "outputs": [],
   "source": [
    "li_names = [118, 119, 120, 121, 185, 186, 187, 188, 222, 223, 224, 225, 48, 49, 50, 51]"
   ]
  },
  {
   "cell_type": "code",
   "execution_count": 44,
   "id": "ca122ff1",
   "metadata": {},
   "outputs": [],
   "source": [
    "li_names = [48, 49, 50, 51]"
   ]
  },
  {
   "cell_type": "code",
   "execution_count": 45,
   "id": "df3867a5",
   "metadata": {},
   "outputs": [
    {
     "name": "stdout",
     "output_type": "stream",
     "text": [
      "48.mat ===> Total Images: 1887\n",
      "=====> Time Needed for 48.mat:  0.31995501518249514  minutes\n",
      "49.mat ===> Total Images: 1896\n",
      "=====> Time Needed for 49.mat:  0.3156764229138692  minutes\n",
      "50.mat ===> Total Images: 1890\n",
      "=====> Time Needed for 50.mat:  0.29929056962331135  minutes\n",
      "51.mat ===> Total Images: 1890\n",
      "=====> Time Needed for 51.mat:  0.3155472636222839  minutes\n"
     ]
    }
   ],
   "source": [
    "create_data(data_dir='Ball/', list_names=li_names, n_signals=64, action_value=2, num_folders=NUM_FOLDERS)"
   ]
  },
  {
   "cell_type": "markdown",
   "id": "87e44ecb",
   "metadata": {},
   "source": [
    "### Outer Race Images"
   ]
  },
  {
   "cell_type": "code",
   "execution_count": 48,
   "id": "e91bb4f5",
   "metadata": {},
   "outputs": [],
   "source": [
    "li_names = [130, 131, 132, 133, 197, 198, 199, 200, 234, 235, 236, 237, 246, 247, 248, 249]"
   ]
  },
  {
   "cell_type": "code",
   "execution_count": 49,
   "id": "fef705a3",
   "metadata": {},
   "outputs": [
    {
     "name": "stdout",
     "output_type": "stream",
     "text": [
      "130.mat ===> Total Images: 1906\n",
      "=====> Time Needed for 130.mat:  0.29288079341252643  minutes\n",
      "131.mat ===> Total Images: 1912\n",
      "=====> Time Needed for 131.mat:  0.27515029112497963  minutes\n",
      "132.mat ===> Total Images: 1897\n",
      "=====> Time Needed for 132.mat:  0.2939469814300537  minutes\n",
      "133.mat ===> Total Images: 1915\n",
      "=====> Time Needed for 133.mat:  0.2877757430076599  minutes\n",
      "197.mat ===> Total Images: 1903\n",
      "=====> Time Needed for 197.mat:  0.296712589263916  minutes\n",
      "198.mat ===> Total Images: 1908\n",
      "=====> Time Needed for 198.mat:  0.30097599426905314  minutes\n",
      "199.mat ===> Total Images: 1903\n",
      "=====> Time Needed for 199.mat:  0.2949795126914978  minutes\n",
      "200.mat ===> Total Images: 1906\n",
      "=====> Time Needed for 200.mat:  0.29413856665293375  minutes\n",
      "234.mat ===> Total Images: 1912\n",
      "=====> Time Needed for 234.mat:  0.2983783562978109  minutes\n",
      "235.mat ===> Total Images: 1906\n",
      "=====> Time Needed for 235.mat:  0.2930671175320943  minutes\n",
      "236.mat ===> Total Images: 1910\n",
      "=====> Time Needed for 236.mat:  0.28913732767105105  minutes\n",
      "237.mat ===> Total Images: 1906\n",
      "=====> Time Needed for 237.mat:  0.28649357159932454  minutes\n",
      "246.mat ===> Total Images: 1901\n",
      "=====> Time Needed for 246.mat:  0.305365522702535  minutes\n",
      "247.mat ===> Total Images: 1906\n",
      "=====> Time Needed for 247.mat:  0.3130958477656047  minutes\n",
      "248.mat ===> Total Images: 1910\n",
      "=====> Time Needed for 248.mat:  0.3047051469484965  minutes\n",
      "249.mat ===> Total Images: 1908\n",
      "=====> Time Needed for 249.mat:  0.30872417291005455  minutes\n"
     ]
    }
   ],
   "source": [
    "create_data(data_dir='Outer Race/', list_names=li_names, n_signals=64, action_value=3, num_folders=NUM_FOLDERS)"
   ]
  },
  {
   "cell_type": "code",
   "execution_count": null,
   "id": "35f27116",
   "metadata": {},
   "outputs": [],
   "source": []
  },
  {
   "cell_type": "code",
   "execution_count": null,
   "id": "658af0fa",
   "metadata": {},
   "outputs": [],
   "source": []
  },
  {
   "cell_type": "code",
   "execution_count": null,
   "id": "23e3e7ab",
   "metadata": {},
   "outputs": [],
   "source": []
  },
  {
   "cell_type": "code",
   "execution_count": null,
   "id": "3b243afa",
   "metadata": {},
   "outputs": [],
   "source": []
  },
  {
   "cell_type": "code",
   "execution_count": null,
   "id": "6f5bee16",
   "metadata": {},
   "outputs": [],
   "source": []
  }
 ],
 "metadata": {
  "kernelspec": {
   "display_name": "Python 3 (ipykernel)",
   "language": "python",
   "name": "python3"
  },
  "language_info": {
   "codemirror_mode": {
    "name": "ipython",
    "version": 3
   },
   "file_extension": ".py",
   "mimetype": "text/x-python",
   "name": "python",
   "nbconvert_exporter": "python",
   "pygments_lexer": "ipython3",
   "version": "3.9.7"
  }
 },
 "nbformat": 4,
 "nbformat_minor": 5
}

{
 "cells": [
  {
   "cell_type": "markdown",
   "id": "2f4652d7",
   "metadata": {},
   "source": [
    "## Bearing Fault Classification using Deep Reinforcement Learning"
   ]
  },
  {
   "cell_type": "markdown",
   "id": "35fba186",
   "metadata": {},
   "source": [
    "    Reference Paper: Intelligent fault diagnosis for rotating machinery using deep Q-network\n",
    "                     based health state classification: A deep reinforcement learning approach by:\n",
    "                     Yu Ding, Liang Ma, Jian Ma, Mingliang Suo, Laifa Tao, Yujie Cheng, Chen Lu\n",
    "    \n",
    "    Data: Case Western Bearing Data\n",
    "          https://engineering.case.edu/bearingdatacenter/download-data-file"
   ]
  },
  {
   "cell_type": "markdown",
   "id": "87c2ffbb",
   "metadata": {},
   "source": [
    "### Description"
   ]
  },
  {
   "cell_type": "markdown",
   "id": "8b507ce6",
   "metadata": {},
   "source": [
    "    1. In this project, bearing fault classification is done with the help of Deep Q Learning method.\n",
    "    2. A Deep Reinforcement Learning Agent is used to predict whether vibration data of a bearing state is in\n",
    "       which fualt mode.\n",
    "    3. The deep reinforcement learning agent has a 2 Convolution Layer with 2 Fully connected layers and a output \n",
    "       layer to predict q-values.\n",
    "    4. Vibration data is converted to 2D Continous Wavelet Transform Scalogram for the Training and Testing the               agent.\n",
    "    5. The training takes place as quiz game where the agent will predict N number of scalograms in an episode. \n",
    "       The scalograms in an episode contains Bearing state of 4 different conditions.\n",
    "    6. If the agent predicts correctly, then it gets a reward of +1 else -1.\n",
    "    7. The goal of the agent is to maximize rewards, thus the goal is to train the agent to predict the state of \n",
    "       the scalogram."
   ]
  },
  {
   "cell_type": "markdown",
   "id": "92987526",
   "metadata": {
    "id": "92987526"
   },
   "source": [
    "### Import Libraries"
   ]
  },
  {
   "cell_type": "code",
   "execution_count": 1,
   "id": "38f38fd1",
   "metadata": {
    "id": "38f38fd1"
   },
   "outputs": [],
   "source": [
    "import torch                              # Torch\n",
    "import matplotlib.pyplot as plt           # Plotting\n",
    "import numpy as np                        # Numpy\n",
    "from collections import deque, namedtuple # Special List and Tuple\n",
    "import torch.nn as nn                     # Neural Networks\n",
    "import torch.nn.functional as F           # Functional API\n",
    "import torch.optim as optim               # Optimizers\n",
    "from torchsummary import summary          # Summarizer\n",
    "import random                             # Random\n",
    "import os                                 # To handle files"
   ]
  },
  {
   "cell_type": "markdown",
   "id": "d3a08af8",
   "metadata": {
    "id": "d3a08af8"
   },
   "source": [
    "### Implement Q Network"
   ]
  },
  {
   "cell_type": "code",
   "execution_count": 2,
   "id": "167418c8",
   "metadata": {
    "id": "167418c8"
   },
   "outputs": [],
   "source": [
    "class QNetwork(nn.Module):\n",
    "    '''Q-Network'''\n",
    "    def __init__(self, ch_size, action_size, seed, cnn_1, cnn_2, unit_1, unit_2, kernel_size=3, stride=2, pool_size=2):\n",
    "        '''Construct the Q-Network:\n",
    "           Parameters:\n",
    "           ===========\n",
    "                      ch_size     : The size of the channels in an image;     ===> Type: Integer.\n",
    "                      action_size : The number of actions;                    ===> Type: Integer.\n",
    "                      seed        : To Seed;                                  ===> Type: Integer.\n",
    "                      cnn_1       : The number of filters in CNN Layer 1;     ===> Type: Integer.\n",
    "                      cnn_2       : The number of filters in CNN Layer 2;     ===> Type: Integer.\n",
    "                      units_1     : The number of units in Dense Layer 1;     ===> Type: Integer.\n",
    "                      units_2     : The number of units in Dense Layer 2;     ===> Type: Integer.\n",
    "                      kernel_size : The size of kernel in Convolution;        ===> Type: Integer.\n",
    "                      stride      : The strides in Convolution;               ===> Type: Integer.\n",
    "                      pool_size   : The pooling kernel size;                  ===> Type: Integer.\n",
    "        '''\n",
    "        super(QNetwork, self).__init__()\n",
    "        self.seed  = torch.manual_seed(seed)   # Seed Torch\n",
    "        self.cnn_layer_1  = nn.Conv2d(in_channels=ch_size, out_channels=cnn_1, kernel_size=kernel_size, stride=stride) # CNN Layer 1\n",
    "        self.pool_layer_1 = nn.MaxPool2d(kernel_size=pool_size, stride=1)            # Max Pool Layer 1\n",
    "        self.cnn_layer_2  = nn.Conv2d(in_channels=cnn_1, out_channels=cnn_2, kernel_size=kernel_size, stride=stride) # CNN Layer 2\n",
    "        self.pool_layer_2 = nn.MaxPool2d(kernel_size=pool_size, stride=1)            # Max Pool Layer 2\n",
    "        self.dense_1      = nn.Linear(in_features=cnn_2*13*13, out_features=unit_1)  # Dense Layer 1\n",
    "        self.dense_2      = nn.Linear(in_features=unit_1, out_features=unit_2)       # Dense Layer 2\n",
    "        self.dense_3      = nn.Linear(in_features=unit_2, out_features=action_size)  # Dense Layer 3\n",
    "\n",
    "    def forward(self, state):\n",
    "        '''Makes a Forward Pass of the Neural Network.\n",
    "           Parameters:\n",
    "           ===========\n",
    "                      state: The state of the environment i.e. here an image; ===> Type: 3D-Tensor; Size: (3X64x64).\n",
    "           Return:\n",
    "           ===========\n",
    "                      x: The action values; Type ===> Tensor; Size: action_size.\n",
    "        '''\n",
    "        x = F.relu(self.cnn_layer_1(state)) # CNN Layer gets Relu Activation\n",
    "        x = self.pool_layer_1(x)            # Pool\n",
    "        x = F.relu(self.cnn_layer_2(x))     # CNN Layer gets Relu Activation\n",
    "        x = self.pool_layer_2(x)            # Pool\n",
    "        x = torch.flatten(x, 1)             # Flatten\n",
    "        x = F.relu(self.dense_1(x))         # Dense Layer gets Relu Activation\n",
    "        x = F.relu(self.dense_2(x))         # Dense Layer fets Relu Activation\n",
    "        x = self.dense_3(x)                 # Output Dense Layer\n",
    "        \n",
    "        return x"
   ]
  },
  {
   "cell_type": "markdown",
   "id": "bc20eb28",
   "metadata": {
    "id": "bc20eb28"
   },
   "source": [
    "### Summarize the Network with Dummy Values"
   ]
  },
  {
   "cell_type": "code",
   "execution_count": 3,
   "id": "986c9b42",
   "metadata": {
    "colab": {
     "base_uri": "https://localhost:8080/"
    },
    "id": "986c9b42",
    "outputId": "f20b6174-ec3f-4199-c448-efa11ddd7afc"
   },
   "outputs": [
    {
     "name": "stdout",
     "output_type": "stream",
     "text": [
      "==========================================================================================\n",
      "Layer (type:depth-idx)                   Output Shape              Param #\n",
      "==========================================================================================\n",
      "├─Conv2d: 1-1                            [-1, 64, 31, 31]          1,792\n",
      "├─MaxPool2d: 1-2                         [-1, 64, 30, 30]          --\n",
      "├─Conv2d: 1-3                            [-1, 32, 14, 14]          18,464\n",
      "├─MaxPool2d: 1-4                         [-1, 32, 13, 13]          --\n",
      "├─Linear: 1-5                            [-1, 64]                  346,176\n",
      "├─Linear: 1-6                            [-1, 32]                  2,080\n",
      "├─Linear: 1-7                            [-1, 4]                   132\n",
      "==========================================================================================\n",
      "Total params: 368,644\n",
      "Trainable params: 368,644\n",
      "Non-trainable params: 0\n",
      "Total mult-adds (M): 5.62\n",
      "==========================================================================================\n",
      "Input size (MB): 0.05\n",
      "Forward/backward pass size (MB): 0.52\n",
      "Params size (MB): 1.41\n",
      "Estimated Total Size (MB): 1.97\n",
      "==========================================================================================\n",
      "==========================================================================================\n",
      "Layer (type:depth-idx)                   Output Shape              Param #\n",
      "==========================================================================================\n",
      "├─Conv2d: 1-1                            [-1, 64, 31, 31]          1,792\n",
      "├─MaxPool2d: 1-2                         [-1, 64, 30, 30]          --\n",
      "├─Conv2d: 1-3                            [-1, 32, 14, 14]          18,464\n",
      "├─MaxPool2d: 1-4                         [-1, 32, 13, 13]          --\n",
      "├─Linear: 1-5                            [-1, 64]                  346,176\n",
      "├─Linear: 1-6                            [-1, 32]                  2,080\n",
      "├─Linear: 1-7                            [-1, 4]                   132\n",
      "==========================================================================================\n",
      "Total params: 368,644\n",
      "Trainable params: 368,644\n",
      "Non-trainable params: 0\n",
      "Total mult-adds (M): 5.62\n",
      "==========================================================================================\n",
      "Input size (MB): 0.05\n",
      "Forward/backward pass size (MB): 0.52\n",
      "Params size (MB): 1.41\n",
      "Estimated Total Size (MB): 1.97\n",
      "==========================================================================================\n"
     ]
    }
   ],
   "source": [
    "q = QNetwork(3, 4, 2, 64, 32, 64, 32, 3, 2, 2) # Create Q network\n",
    "input_shape = (3,64,64) # Input Shape of Image\n",
    "print(summary(q, input_shape)) # Summarize"
   ]
  },
  {
   "cell_type": "markdown",
   "id": "f61bd269",
   "metadata": {
    "id": "f61bd269"
   },
   "source": [
    "### Replay Buffer"
   ]
  },
  {
   "cell_type": "code",
   "execution_count": 4,
   "id": "795897ce",
   "metadata": {
    "id": "795897ce"
   },
   "outputs": [],
   "source": [
    "class ReplayBuffer:\n",
    "    '''Stores Experiences in Buffer'''\n",
    "    def __init__(self, action_size, buffer_size, seed, batch_size):\n",
    "        '''Constructs the Replay Buffer.\n",
    "           Parameters:\n",
    "           ===========\n",
    "                      action_size : The number of actions; ===> Type: Integer.\n",
    "                      buffer_size : The buffer dimensions; ===> Type: Integer.\n",
    "                      seed        : To seed;               ===> Type: Integer.\n",
    "                      batch_size  : The batch size;        ===> Type: Integer.\n",
    "        '''\n",
    "        self.action_size = action_size               # Action Size\n",
    "        self.batch_size  = batch_size                # Batch Size\n",
    "        self.memory      = deque(maxlen=buffer_size) # Special List\n",
    "        self.experiences = namedtuple('Experience', field_names=['state', 'action', 'reward', 'next_state', 'done']) # Special Dictionary\n",
    "        self.seed        = random.seed(seed)         # Seed\n",
    "        \n",
    "    def add(self, state, action, reward, next_state, done):\n",
    "        '''Adds Experiences to the Memory.\n",
    "           Parameters:\n",
    "           ===========\n",
    "                      state  :  The state i.e. here an image;       ===> Type: 2D Tensor; Size: (3x64x64).\n",
    "                      action : The Action taken in that state;      ===> Type: Integer.\n",
    "                      reward : The reward obtained from the action; ===> Type: Integer.\n",
    "                      state  :  The next state i.e. here an image;  ===> Type: 2D Tensor; Size: (3x64x64).\n",
    "                      done   :   If the task in completed ot not;   ===> Type: Bool.\n",
    "           Return:\n",
    "           ===========\n",
    "                      None.\n",
    "        ''' \n",
    "        e = self.experiences(state, action, reward, next_state, done) # Add Experience \n",
    "        self.memory.append(e) # Append To Memory\n",
    "        \n",
    "    def __len__(self):\n",
    "        '''Returns the current size of memory.\n",
    "           Parameters:\n",
    "           ===========\n",
    "                      None.\n",
    "           Return:\n",
    "           ===========\n",
    "                      Length of memory; ===> Type: Integer.\n",
    "        '''\n",
    "        return len(self.memory) # Return.\n",
    "    \n",
    "    def sample(self):\n",
    "        '''Sample Experiences from Memory.\n",
    "           Parameters:\n",
    "           ===========\n",
    "                      None.\n",
    "           Return:\n",
    "           ===========\n",
    "                      Tuple of (state, action, reward, next_state, done); ===> Type: Tuple.\n",
    "        '''\n",
    "        experiences = random.sample(self.memory, k=self.batch_size) # Sample from Memory\n",
    "        states      = torch.from_numpy(np.vstack([e.state for e in experiences if e is not None])).float().to(device)   # State Tensor.\n",
    "        actions     = torch.from_numpy(np.vstack([e.action for e in experiences if e is not None])).long().to(device)   # Action Tensor.\n",
    "        rewards     = torch.from_numpy(np.vstack([e.reward for e in experiences if e is not None])).float().to(device)  # Reward Tensor.\n",
    "        next_states = torch.from_numpy(np.vstack([e.next_state for e in experiences if e is not None])).float().to(device)            # Next States Tensor.\n",
    "        dones       = torch.from_numpy(np.vstack([e.done for e in experiences if e is not None]).astype(np.uint8)).float().to(device) # Dones Tensor.\n",
    "        \n",
    "        return (states, actions, rewards, next_states, dones) # Return tuple of tensors."
   ]
  },
  {
   "cell_type": "markdown",
   "id": "8552e542",
   "metadata": {
    "id": "8552e542"
   },
   "source": [
    "### Define Agent"
   ]
  },
  {
   "cell_type": "code",
   "execution_count": 18,
   "id": "37f070c5",
   "metadata": {
    "id": "37f070c5"
   },
   "outputs": [],
   "source": [
    "class Agent:\n",
    "    '''Interacts with the Environment and Learns from Experiences.'''\n",
    "    def __init__(self, action_size, seed):\n",
    "        '''Constructs the Agent.\n",
    "           Parameters:\n",
    "           ===========\n",
    "                      action_size : The action-space dimension; ===> Type: Integer.\n",
    "                      seed        : The random seed;            ===> Type: Integer.\n",
    "        '''\n",
    "        self.action_size = action_size         # Action Size\n",
    "        self.seed        = random.seed(seed)   # Seed\n",
    "         \n",
    "        # Deep-Q-Network\n",
    "        self.qnet_local  = QNetwork(ch_size=3, action_size=action_size, seed=seed, cnn_1=64, cnn_2=32, unit_1=64, unit_2=32).to(device) # Local Q Network\n",
    "        self.qnet_target = QNetwork(ch_size=3, action_size=action_size, seed=seed, cnn_1=64, cnn_2=32, unit_1=64, unit_2=32).to(device) # Target Q Network\n",
    "        self.optimizer   = optim.Adam(self.qnet_local.parameters(), lr=LR) # Optimizer Adam\n",
    "        \n",
    "        # Replay Memory\n",
    "        self.memory = ReplayBuffer(action_size, BUFFER_SIZE, seed, BATCH_SIZE) # Replay Memory\n",
    "        self.t_step = 0 # Time Step to update every x iterations\n",
    "        \n",
    "    def step(self, state, action, reward, next_state, done):\n",
    "        '''Saves Experiences in Memory and Learns from experiences.\n",
    "           Parameters:\n",
    "           ===========\n",
    "                      state      : The state i.e. here an image;        ===> Type: 3D Tensor; Size: (3x64x64).\n",
    "                      action     : The Action taken in that state;      ===> Type: Integer.\n",
    "                      reward     : The reward obtained from the action; ===> Type: Integer.\n",
    "                      next_state : The next state i.e. here an image;   ===> Type: 3D Tensor; Size: (3x64x64).\n",
    "                      done       : If the task in completed ot not;     ===> Type: Bool.\n",
    "           Return:\n",
    "           ===========\n",
    "                      None.\n",
    "        '''\n",
    "        state = torch.from_numpy(state).float().unsqueeze(0).to(device) # State Tensor - Convert to 4D\n",
    "        next_state = torch.from_numpy(next_state).float().unsqueeze(0).to(device) # State Tensor - Convert to 4D\n",
    "        self.memory.add(state, action, reward, next_state, done) # Add Experiences to Memory\n",
    "\n",
    "        # Learn EVERY UPDATE Steps\n",
    "        self.t_step = (self.t_step + 1) % UPDATE_EVERY # Get Remainder\n",
    "        \n",
    "        if self.t_step == 0:                           # When Remainder is 0\n",
    "            if len(self.memory) > BATCH_SIZE:          # If enough experiences are there in the memory, then learn\n",
    "                experiences = self.memory.sample()     # Samples Experiences\n",
    "                self.learn(experiences, GAMMA)         # Learn\n",
    "    \n",
    "    def action(self, state, eps=0.0):\n",
    "        '''Returns actions as per current policy.\n",
    "           Parameters:\n",
    "           ===========\n",
    "                      state :  The state i.e. here an image; ===> Type: 3D Tensor; Size: (3x64x64).\n",
    "                      eps   :  Epsilon-greedy parameter;     ===> Type: Float.\n",
    "           Return:\n",
    "           ===========\n",
    "                      Action to take; ===> Type: Integer.\n",
    "        '''\n",
    "        state = torch.from_numpy(state).float().unsqueeze(0).to(device) # State Tensor - Convert to 4D\n",
    "        \n",
    "        # Get Actions\n",
    "        self.qnet_local.eval()   # Evaluation Mode\n",
    "        with torch.no_grad():\n",
    "            action_values = self.qnet_local(state) # Get action Values\n",
    "            \n",
    "        self.qnet_local.train()  # Train Mode\n",
    "        \n",
    "        # Epsilon-Greedy Action Selection\n",
    "        if random.random() > eps:\n",
    "            return np.argmax(action_values.cpu().data.numpy()) # Greedy Action.\n",
    "        else: \n",
    "            return random.choice(np.arange(self.action_size))  # Random Action.\n",
    "        \n",
    "    def learn(self, experiences, gamma):\n",
    "        '''Learns from experiences by updating the network.\n",
    "           Parameters:\n",
    "           ===========\n",
    "                      experiences : Experiences of state, action, reward, next state and done; ===> Type: Tuple.\n",
    "                      gamma       : Discount factor;                                           ===>  Type: Float.\n",
    "           Return:\n",
    "           ===========\n",
    "                      None.\n",
    "        '''\n",
    "        states, actions, rewards, next_states, dones = experiences # Extract Tensors\n",
    "\n",
    "        # Get Maximum predicted Q-Values from Target Network.\n",
    "        Q_targets_next = self.qnet_target(next_states).detach().max(1)[0].unsqueeze(1) # Actions\n",
    "        \n",
    "        # Compute Q-Targets for current states.\n",
    "        Q_targets = rewards + (gamma*Q_targets_next*(1-dones))\n",
    "        \n",
    "        # Get expected Q values from Local Network.\n",
    "        Q_expected = self.qnet_local(states).gather(1, actions)\n",
    "        \n",
    "        # Compute Loss\n",
    "        loss = F.mse_loss(Q_expected, Q_targets)\n",
    "        \n",
    "        # Minimize The Loss by Back Propagation of Q-Net Local\n",
    "        self.optimizer.zero_grad()\n",
    "        loss.backward()\n",
    "        self.optimizer.step()\n",
    "        \n",
    "        # Update Target Network\n",
    "        self.soft_update(self.qnet_local, self.qnet_target, TAU)\n",
    "        \n",
    "    def soft_update(self, local_model, target_model, tau):\n",
    "        \"\"\"Soft update model parameters.\n",
    "        θ_target = τ*θ_local + (1 - τ)*θ_target\n",
    "        Paramaters:\n",
    "        ===========\n",
    "                   local_model  : Q Network Local where weights will be copied from; ===> Type: Object\n",
    "                   target_model : Q Network Target where weights will be copied to;  ===> Type: Object\n",
    "                   tau          : Interpolation parameter;                           ===> Type: Float\n",
    "        \"\"\"\n",
    "        for target_param, local_param in zip(target_model.parameters(), local_model.parameters()):\n",
    "            target_param.data.copy_(tau*local_param.data + (1.0-tau)*target_param.data)\n",
    "            \n",
    "    @staticmethod\n",
    "    def test_agent(qnet, image, image_name):\n",
    "        '''Tests the trained agent.\n",
    "           Parameters:\n",
    "           ===========\n",
    "                      qnet       : The trained neural network; ===> Type: Object.\n",
    "                      image      : The Test image;             ===> Type: String.\n",
    "                      image_name : The name of image file;     ===> Type: String.\n",
    "           Return:\n",
    "           ===========\n",
    "                      None.\n",
    "        '''\n",
    "        image_t = torch.from_numpy(image).float().unsqueeze(0).to(device) # To 4-D Tensor\n",
    "        action = qnet(image_t)  # Get Action values\n",
    "        fault_pred = np.argmax(action.cpu().data.numpy()) # Get maximum of the action values\n",
    "        \n",
    "        # Print Real Result\n",
    "        if int(image_name[0]) == 0:\n",
    "            print('Real State: Normal')\n",
    "        elif int(image_name[0]) == 1:\n",
    "            print('Real State: Inner Race Fault')\n",
    "        elif int(image_name[0]) == 2:\n",
    "            print('Real State: Ball Fault')\n",
    "        elif int(image_name[0]) == 3:\n",
    "            print('Real State: Outer Race Fault')\n",
    "        \n",
    "        # Print Predicted Result\n",
    "        if fault_pred == 0:\n",
    "            print(f'Predicted Fault: Normal State') # Print\n",
    "        elif fault_pred == 1:\n",
    "            print(f'Predicted Fault: Inner Race Fault') # Print\n",
    "        elif fault_pred == 2:\n",
    "            print(f'Predicted Fault: Ball Fault') # Print\n",
    "        elif fault_pred == 3:\n",
    "            print(f'Predicted Fault: Outer Race Fault') # Print\n",
    "            \n",
    "        # Plot Scalogram\n",
    "        plt.figure(figsize=(6,6))\n",
    "        plt.imshow(image.reshape((64,64,3)), cmap=plt.cm.jet)\n",
    "        plt.title('Scalogram')\n",
    "        plt.axis('off')\n",
    "        plt.show()\n",
    "    \n",
    "    @staticmethod\n",
    "    def test(qnet, test_dir):\n",
    "        '''Tests the trained agent.\n",
    "           Parameters:\n",
    "           ===========\n",
    "                      qnet       : The trained neural network; ===> Type: Object.\n",
    "                      test_dir   : The Test directory;         ===> Type: String. \n",
    "           Return:\n",
    "           ===========\n",
    "                      None.\n",
    "        '''\n",
    "        test_image_list = os.listdir(test_dir) # Get List of Test Images\n",
    "        score = 0                              # Score\n",
    "        for i in range(len(test_image_list)):\n",
    "            image = plt.imread(test_dir + test_image_list[i])                  # Read Image\n",
    "            image = image.reshape((3,64,64))                                   # Reshape Images\n",
    "            fault = test_image_list[i][0]                                      # Read Image Fault\n",
    "            image_t = torch.from_numpy(image).float().unsqueeze(0).to(device)  # To 4-D Tensor\n",
    "            action = qnet(image_t)                                             # Get Action\n",
    "            fault_pred = np.argmax(action.cpu().data.numpy())                  # Get maximum of the action values\n",
    "            \n",
    "            if int(fault) == fault_pred:\n",
    "                score = score + 1                # Correct Answer get +1 Score\n",
    "        \n",
    "        print(\"Total Images in Test Set: \", len(test_image_list), 'Images')                       # Total Data set \n",
    "        print(\"Highest Score that can be obtained: \", len(test_image_list))                       # Highest Score\n",
    "        print(\"Score Obtained with trained agent: \", score)                                       # Score\n",
    "        print(\"Accuracy of Agent: \", np.around(score/len(test_image_list), decimals=2)*100, ' %') # Accuracy\n",
    "                "
   ]
  },
  {
   "cell_type": "markdown",
   "id": "27dff34e",
   "metadata": {
    "id": "27dff34e"
   },
   "source": [
    "### Define Parameters"
   ]
  },
  {
   "cell_type": "code",
   "execution_count": 6,
   "id": "1730a636",
   "metadata": {
    "id": "1730a636"
   },
   "outputs": [],
   "source": [
    "BUFFER_SIZE  = int(1e6)  # Size of Buffer.\n",
    "BATCH_SIZE   = 32        # Batch size to sample Experiences.\n",
    "GAMMA        = 0.99      # Discount Factor.\n",
    "TAU          = 1e-03     # Soft Update Parameter.\n",
    "LR           = 5e-04     # Learning Rate.\n",
    "UPDATE_EVERY = 4         # Update every __ number of steps."
   ]
  },
  {
   "cell_type": "code",
   "execution_count": 5,
   "id": "85791d4d",
   "metadata": {
    "colab": {
     "base_uri": "https://localhost:8080/"
    },
    "id": "85791d4d",
    "outputId": "1bb74741-afc4-4c3e-97f0-ccf8d77ef03a"
   },
   "outputs": [
    {
     "name": "stdout",
     "output_type": "stream",
     "text": [
      "Device: cpu\n"
     ]
    }
   ],
   "source": [
    "device = torch.device('cuda:0' if torch.cuda.is_available() else 'cpu') # Device\n",
    "print('Device:', device) # Print Device"
   ]
  },
  {
   "cell_type": "markdown",
   "id": "BG4XZHz8uCsq",
   "metadata": {
    "id": "BG4XZHz8uCsq"
   },
   "source": [
    "### Environment"
   ]
  },
  {
   "cell_type": "code",
   "execution_count": 8,
   "id": "10e34879",
   "metadata": {
    "id": "10e34879"
   },
   "outputs": [],
   "source": [
    "class Environment:\n",
    "    '''The Environment of the Model'''\n",
    "    def __init__(self, directory_data, num_folders, train, test):\n",
    "        '''Constructs the Environment.\n",
    "           Parameters:\n",
    "           ===========\n",
    "                      directory_data : The name of directory;              ===> Type: String.\n",
    "                      num_folders    : The number of folders for training; ===> Type: Integer.\n",
    "                      train          : The name of Training batch folders; ===> Type: String\n",
    "                      test           : The name of Testing directory;      ===> Type: String.\n",
    "        '''\n",
    "        self.dir = directory_data # Directory name\n",
    "        self.num = num_folders    # Number of Folders\n",
    "        self.train = train        # Training folder\n",
    "        self.test = test          # Testing Folder\n",
    "        self.list_images =[]      # List of names of images in folder\n",
    "        self.directory = None     # Directory name with Data + Batch_n\n",
    "        \n",
    "    def step(self, state, action, real_class, i_state):\n",
    "        '''Takes Action on a State, gets next state, rewards and if game is over or not.\n",
    "           Parameters:\n",
    "           ===========\n",
    "                      state      : The current state i.e. here an image; ===> Type: 3D Tensor; Size: (3x64x64). \n",
    "                      action     : The action taken by the agent;        ===> Type: Integer.\n",
    "                      real_class : The class of fault the state belongs; ===> Type: Integer.\n",
    "                      i_state    : The index of current state;           ===> Type: Integer.\n",
    "           Return:\n",
    "           ===========\n",
    "                      reward     : The reward obtained from the action; ===> Type: Integer.\n",
    "                      next_state : The next state i.e. here an image;   ===> Type: 3D Tensor; Size: (3x64x64).\n",
    "                      done       : If the task in completed ot not;     ===> Type: Bool.\n",
    "                      real_class_next_state: The class of fault the state belongs; ===> Type: Integer.\n",
    "        '''\n",
    "        # Decide Reward\n",
    "        if int(action) == int(real_class):    # If agent predicts right action\n",
    "            reward = 1 \n",
    "        else:\n",
    "            reward = -1\n",
    "            \n",
    "        # Get Next State\n",
    "        if i_state < len(self.list_images) -1:                       # When there are images in the batch\n",
    "            next_state_name = self.list_images[i_state+1]            # Get  Next State Name i.e. Image names\n",
    "            real_class_next_state = int(next_state_name[0])          # Get class of fault the image belongs to \n",
    "            next_state = plt.imread(self.directory+next_state_name)  # Get State\n",
    "            next_state = next_state.reshape((3,64,64))               # Reshape Image\n",
    "            done = False                                             # Game is not over\n",
    "            \n",
    "        else:  # When there are no images in the batch\n",
    "            done = True                    # Game is over\n",
    "            next_state = None              # There is no next state\n",
    "            real_class_next_state = None   # There are no faults\n",
    "            \n",
    "        return reward, next_state, done, real_class_next_state # Return\n",
    "        \n",
    "    def get_num_images(self, i_episode):\n",
    "        '''Gives the Number of images in the Episode/Batch.\n",
    "           Parameters:\n",
    "           ===========\n",
    "                      i_episode: The episode/batch number; ===> Type: Integer.\n",
    "           Return:\n",
    "           ===========\n",
    "                      episode_img : The number of images in the natch;         ===> Type: Integer\n",
    "                      list_images : The list of image names which are shuffled ===> Type: List.\n",
    "                      directory   : The directory name;                        ===> Type: String.\n",
    "        '''\n",
    "        episode_img = len(os.listdir(self.dir + self.train + f'_{i_episode+1}/')) # Get the number of images\n",
    "        list_images = os.listdir(self.dir + self.train + f'_{i_episode+1}/')      # Get Names of Images\n",
    "        random.shuffle(list_images)                                               # Shuffle Images\n",
    "        directory = self.dir + self.train + f'_{i_episode+1}/'                    # Directory name\n",
    "        \n",
    "        self.list_images = list_images  # Update List\n",
    "        self.directory = directory      # Directory name with Data + Batch_n\n",
    "        \n",
    "        return episode_img, list_images, directory  # Return"
   ]
  },
  {
   "cell_type": "markdown",
   "id": "ab3ec490",
   "metadata": {
    "id": "ab3ec490"
   },
   "source": [
    "### Define Environment"
   ]
  },
  {
   "cell_type": "markdown",
   "id": "583c0056",
   "metadata": {
    "id": "583c0056"
   },
   "source": [
    "### DQN Fault Classification"
   ]
  },
  {
   "cell_type": "code",
   "execution_count": 11,
   "id": "f5ec660b",
   "metadata": {
    "id": "f5ec660b"
   },
   "outputs": [],
   "source": [
    "def DQN_Fault_Classification(n_episodes=1700, eps_start=1.0, eps_end=0.075, eps_decay=0.995):\n",
    "    '''Trains Agent to Classify Faults.\n",
    "       Parameters:\n",
    "       ===========\n",
    "                  n_episodes : The maximum number of training episodes; ===> Type: Integer.\n",
    "                  eps_start  : Starting value of epsilon;               ===> Type: Float.\n",
    "                  eps_end    : Ending value of epsilon ;                ===> Type: Float.\n",
    "                  eps_decay  : Decaying factor of epsilon;              ===> Type: Float.\n",
    "       Return:\n",
    "       ===========\n",
    "                  scores: Score obtained in each episode; ===> Type: List.\n",
    "    '''\n",
    "    scores        = []                # Scores List \n",
    "    scores_window = deque(maxlen=100) # Score Windows to store last 100 scores\n",
    "    eps           = eps_start         # Epsilon Greedy\n",
    "    \n",
    "    # Objects of Agent and Environment \n",
    "    agent = Agent(action_size=4, seed=6)  # Agent\n",
    "    env   = Environment(directory_data='Data/', num_folders=n_episodes, train='Batch', test='test') # Environment\n",
    "    \n",
    "    # Train\n",
    "    for i_episode in range(n_episodes):\n",
    "        score = 0                                                           # Initialise Score to zero\n",
    "        EPISODE_IMG, list_images, directory = env.get_num_images(i_episode) # Get Episode Details\n",
    "        \n",
    "        # Get states of the first image in the list\n",
    "        state_name = list_images[0]                                         # Get State Name i.e. Image names\n",
    "        real_class = int(state_name[0])                                     # Get class of fault the image belongs to \n",
    "        state = plt.imread(directory+state_name)                            # Get State\n",
    "        state = state.reshape((3,64,64))                                    # Reshape Image\n",
    "\n",
    "        for i_state in range(EPISODE_IMG): \n",
    "\n",
    "            action = agent.action(state)                                                        # Get Action for the state\n",
    "            reward, next_state, done, real_class = env.step(state, action, real_class, i_state) # Pass Action to get rewards and next state\n",
    "            if next_state is not None:\n",
    "                agent.step(state, action, reward, next_state, done)         # Learn from experience\n",
    "            state = next_state                                          # Update State\n",
    "            score = score + reward                                      # Update Score\n",
    "\n",
    "        \n",
    "        scores_window.append(score)        # Append to List\n",
    "        scores.append(score)               # Append to list\n",
    "        eps = max(eps_end, eps_decay*eps)  # Decay Epsilon Values\n",
    "        \n",
    "        # Print Scores\n",
    "        if i_episode % 10 == 0:                                                          # Print Every 100 Episodes\n",
    "            print(f'Episode: {i_episode} =====> Average Score: {np.mean(scores_window)}') # Print \n",
    "    \n",
    "        if np.mean(scores_window) >=35:                                                  # If Score average is x plus      \n",
    "            torch.save(agent.qnet_local.state_dict(), 'DQN_FC.pth')                       # Save Weights.\n",
    "            print(f'\\nEnvironment solved in {i_episode-100} episodes! =====> Average Score: {np.mean(scores_window)}') # Print.\n",
    "            \n",
    "        if i_episode == n_episodes-1:                              # If Last Episode\n",
    "            torch.save(agent.qnet_local.state_dict(),'DQN_FC.pth') # Save Weights.\n",
    "            \n",
    "    return scores # Return Scores\n",
    "          "
   ]
  },
  {
   "cell_type": "markdown",
   "id": "d1dfd9aa",
   "metadata": {
    "id": "d1dfd9aa"
   },
   "source": [
    "### Train the agent"
   ]
  },
  {
   "cell_type": "code",
   "execution_count": null,
   "id": "6654d11f",
   "metadata": {
    "colab": {
     "base_uri": "https://localhost:8080/"
    },
    "id": "6654d11f",
    "outputId": "ff8c45bb-5beb-4f71-813f-229dc845d36b",
    "scrolled": true
   },
   "outputs": [
    {
     "name": "stdout",
     "output_type": "stream",
     "text": [
      "Episode: 0 =====> Average Score: -30.0\n",
      "Episode: 10 =====> Average Score: -30.0\n",
      "Episode: 20 =====> Average Score: -29.904761904761905\n",
      "Episode: 30 =====> Average Score: -28.967741935483872\n",
      "Episode: 40 =====> Average Score: -27.170731707317074\n",
      "Episode: 50 =====> Average Score: -25.96078431372549\n",
      "Episode: 60 =====> Average Score: -24.0\n",
      "Episode: 70 =====> Average Score: -22.169014084507044\n",
      "Episode: 80 =====> Average Score: -20.641975308641975\n",
      "Episode: 90 =====> Average Score: -19.626373626373628\n",
      "Episode: 100 =====> Average Score: -18.0\n",
      "Episode: 110 =====> Average Score: -15.6\n",
      "Episode: 120 =====> Average Score: -12.96\n",
      "Episode: 130 =====> Average Score: -10.96\n",
      "Episode: 140 =====> Average Score: -9.6\n",
      "Episode: 150 =====> Average Score: -7.78\n",
      "Episode: 160 =====> Average Score: -6.88\n",
      "Episode: 170 =====> Average Score: -6.06\n",
      "Episode: 180 =====> Average Score: -5.52\n",
      "Episode: 190 =====> Average Score: -4.48\n",
      "Episode: 200 =====> Average Score: -4.58\n",
      "Episode: 210 =====> Average Score: -4.28\n",
      "Episode: 220 =====> Average Score: -3.48\n",
      "Episode: 230 =====> Average Score: -1.16\n",
      "Episode: 240 =====> Average Score: 1.7\n",
      "Episode: 250 =====> Average Score: 3.98\n",
      "Episode: 260 =====> Average Score: 6.64\n",
      "Episode: 270 =====> Average Score: 9.04\n",
      "Episode: 280 =====> Average Score: 11.66\n",
      "Episode: 290 =====> Average Score: 14.38\n",
      "Episode: 300 =====> Average Score: 16.92\n",
      "Episode: 310 =====> Average Score: 19.62\n",
      "Episode: 320 =====> Average Score: 21.64\n",
      "Episode: 330 =====> Average Score: 22.2\n",
      "Episode: 340 =====> Average Score: 22.78\n",
      "Episode: 350 =====> Average Score: 23.42\n",
      "Episode: 360 =====> Average Score: 23.68\n",
      "Episode: 370 =====> Average Score: 23.86\n",
      "Episode: 380 =====> Average Score: 24.26\n",
      "Episode: 390 =====> Average Score: 24.38\n",
      "Episode: 400 =====> Average Score: 24.78\n",
      "Episode: 410 =====> Average Score: 25.18\n",
      "Episode: 420 =====> Average Score: 25.78\n",
      "Episode: 430 =====> Average Score: 26.3\n",
      "Episode: 440 =====> Average Score: 26.72\n",
      "Episode: 450 =====> Average Score: 26.64\n",
      "Episode: 460 =====> Average Score: 27.14\n",
      "Episode: 470 =====> Average Score: 27.74\n",
      "Episode: 480 =====> Average Score: 28.06\n",
      "Episode: 490 =====> Average Score: 28.32\n",
      "Episode: 500 =====> Average Score: 28.76\n",
      "Episode: 510 =====> Average Score: 28.74\n",
      "Episode: 520 =====> Average Score: 28.86\n",
      "Episode: 530 =====> Average Score: 29.32\n",
      "Episode: 540 =====> Average Score: 29.5\n",
      "Episode: 550 =====> Average Score: 30.0\n",
      "Episode: 560 =====> Average Score: 30.44\n",
      "Episode: 570 =====> Average Score: 30.88\n",
      "Episode: 580 =====> Average Score: 30.9\n",
      "Episode: 590 =====> Average Score: 31.12\n",
      "Episode: 600 =====> Average Score: 31.64\n",
      "Episode: 610 =====> Average Score: 32.16\n",
      "Episode: 620 =====> Average Score: 32.36\n",
      "Episode: 630 =====> Average Score: 32.66\n",
      "Episode: 640 =====> Average Score: 32.8\n",
      "Episode: 650 =====> Average Score: 33.08\n",
      "Episode: 660 =====> Average Score: 33.02\n",
      "Episode: 670 =====> Average Score: 32.82\n",
      "Episode: 680 =====> Average Score: 33.28\n",
      "Episode: 690 =====> Average Score: 33.32\n",
      "Episode: 700 =====> Average Score: 33.3\n",
      "Episode: 710 =====> Average Score: 33.52\n",
      "Episode: 720 =====> Average Score: 33.54\n",
      "Episode: 730 =====> Average Score: 33.78\n",
      "Episode: 740 =====> Average Score: 34.42\n",
      "Episode: 750 =====> Average Score: 34.32\n",
      "Episode: 760 =====> Average Score: 34.34\n",
      "Episode: 770 =====> Average Score: 34.56\n",
      "Episode: 780 =====> Average Score: 34.44\n",
      "Episode: 790 =====> Average Score: 34.38\n",
      "Episode: 800 =====> Average Score: 34.78\n",
      "Episode: 810 =====> Average Score: 34.6\n",
      "Episode: 820 =====> Average Score: 34.52\n",
      "Episode: 830 =====> Average Score: 34.36\n",
      "Episode: 840 =====> Average Score: 33.98\n",
      "Episode: 850 =====> Average Score: 34.06\n",
      "Episode: 860 =====> Average Score: 34.4\n",
      "Episode: 870 =====> Average Score: 34.44\n",
      "Episode: 880 =====> Average Score: 34.7\n",
      "\n",
      "Environment solved in 788 episodes! =====> Average Score: 35.06\n",
      "Episode: 890 =====> Average Score: 34.96\n",
      "Episode: 900 =====> Average Score: 34.32\n",
      "Episode: 910 =====> Average Score: 34.86\n",
      "\n",
      "Environment solved in 813 episodes! =====> Average Score: 35.02\n",
      "\n",
      "Environment solved in 816 episodes! =====> Average Score: 35.02\n",
      "\n",
      "Environment solved in 817 episodes! =====> Average Score: 35.0\n",
      "Episode: 920 =====> Average Score: 35.08\n",
      "\n",
      "Environment solved in 820 episodes! =====> Average Score: 35.08\n",
      "\n",
      "Environment solved in 821 episodes! =====> Average Score: 35.1\n",
      "\n",
      "Environment solved in 822 episodes! =====> Average Score: 35.24\n",
      "\n",
      "Environment solved in 823 episodes! =====> Average Score: 35.22\n",
      "\n",
      "Environment solved in 824 episodes! =====> Average Score: 35.16\n",
      "\n",
      "Environment solved in 825 episodes! =====> Average Score: 35.08\n",
      "\n",
      "Environment solved in 826 episodes! =====> Average Score: 35.04\n",
      "\n",
      "Environment solved in 827 episodes! =====> Average Score: 35.06\n",
      "\n",
      "Environment solved in 828 episodes! =====> Average Score: 35.1\n",
      "\n",
      "Environment solved in 829 episodes! =====> Average Score: 35.04\n",
      "Episode: 930 =====> Average Score: 35.1\n",
      "\n",
      "Environment solved in 830 episodes! =====> Average Score: 35.1\n",
      "\n",
      "Environment solved in 831 episodes! =====> Average Score: 35.08\n",
      "\n",
      "Environment solved in 832 episodes! =====> Average Score: 35.14\n",
      "\n",
      "Environment solved in 833 episodes! =====> Average Score: 35.22\n",
      "\n",
      "Environment solved in 834 episodes! =====> Average Score: 35.3\n",
      "\n",
      "Environment solved in 835 episodes! =====> Average Score: 35.52\n",
      "\n",
      "Environment solved in 836 episodes! =====> Average Score: 35.54\n",
      "\n",
      "Environment solved in 837 episodes! =====> Average Score: 35.44\n",
      "\n",
      "Environment solved in 838 episodes! =====> Average Score: 35.42\n",
      "\n",
      "Environment solved in 839 episodes! =====> Average Score: 35.46\n",
      "Episode: 940 =====> Average Score: 35.38\n",
      "\n",
      "Environment solved in 840 episodes! =====> Average Score: 35.38\n",
      "\n",
      "Environment solved in 841 episodes! =====> Average Score: 35.5\n",
      "\n",
      "Environment solved in 842 episodes! =====> Average Score: 35.54\n",
      "\n",
      "Environment solved in 843 episodes! =====> Average Score: 35.6\n",
      "\n",
      "Environment solved in 844 episodes! =====> Average Score: 35.74\n",
      "\n",
      "Environment solved in 845 episodes! =====> Average Score: 35.74\n",
      "\n",
      "Environment solved in 846 episodes! =====> Average Score: 35.72\n",
      "\n",
      "Environment solved in 847 episodes! =====> Average Score: 35.7\n",
      "\n",
      "Environment solved in 848 episodes! =====> Average Score: 35.68\n",
      "\n",
      "Environment solved in 849 episodes! =====> Average Score: 35.86\n",
      "Episode: 950 =====> Average Score: 35.78\n",
      "\n",
      "Environment solved in 850 episodes! =====> Average Score: 35.78\n",
      "\n",
      "Environment solved in 851 episodes! =====> Average Score: 35.7\n",
      "\n",
      "Environment solved in 852 episodes! =====> Average Score: 35.88\n",
      "\n",
      "Environment solved in 853 episodes! =====> Average Score: 35.86\n",
      "\n",
      "Environment solved in 854 episodes! =====> Average Score: 35.9\n",
      "\n",
      "Environment solved in 855 episodes! =====> Average Score: 35.98\n",
      "\n",
      "Environment solved in 856 episodes! =====> Average Score: 36.04\n",
      "\n",
      "Environment solved in 857 episodes! =====> Average Score: 36.1\n",
      "\n",
      "Environment solved in 858 episodes! =====> Average Score: 36.14\n",
      "\n",
      "Environment solved in 859 episodes! =====> Average Score: 36.16\n",
      "Episode: 960 =====> Average Score: 36.22\n",
      "\n",
      "Environment solved in 860 episodes! =====> Average Score: 36.22\n",
      "\n",
      "Environment solved in 861 episodes! =====> Average Score: 36.26\n",
      "\n",
      "Environment solved in 862 episodes! =====> Average Score: 36.28\n",
      "\n",
      "Environment solved in 863 episodes! =====> Average Score: 36.26\n",
      "\n",
      "Environment solved in 864 episodes! =====> Average Score: 36.44\n",
      "\n",
      "Environment solved in 865 episodes! =====> Average Score: 36.36\n",
      "\n",
      "Environment solved in 866 episodes! =====> Average Score: 36.34\n",
      "\n",
      "Environment solved in 867 episodes! =====> Average Score: 36.42\n",
      "\n",
      "Environment solved in 868 episodes! =====> Average Score: 36.3\n"
     ]
    }
   ],
   "source": [
    "scores = DQN_Fault_Classification(n_episodes=1700, eps_start=1.0, eps_end=0.075, eps_decay=0.995)"
   ]
  },
  {
   "cell_type": "markdown",
   "id": "1953ba8c",
   "metadata": {
    "id": "72ac1ef8"
   },
   "source": [
    "### Load Saved Model"
   ]
  },
  {
   "cell_type": "code",
   "execution_count": 6,
   "id": "07689c37",
   "metadata": {
    "id": "07689c37"
   },
   "outputs": [
    {
     "data": {
      "text/plain": [
       "QNetwork(\n",
       "  (cnn_layer_1): Conv2d(3, 64, kernel_size=(3, 3), stride=(2, 2))\n",
       "  (pool_layer_1): MaxPool2d(kernel_size=2, stride=1, padding=0, dilation=1, ceil_mode=False)\n",
       "  (cnn_layer_2): Conv2d(64, 32, kernel_size=(3, 3), stride=(2, 2))\n",
       "  (pool_layer_2): MaxPool2d(kernel_size=2, stride=1, padding=0, dilation=1, ceil_mode=False)\n",
       "  (dense_1): Linear(in_features=5408, out_features=64, bias=True)\n",
       "  (dense_2): Linear(in_features=64, out_features=32, bias=True)\n",
       "  (dense_3): Linear(in_features=32, out_features=4, bias=True)\n",
       ")"
      ]
     },
     "execution_count": 6,
     "metadata": {},
     "output_type": "execute_result"
    }
   ],
   "source": [
    "qnet = QNetwork(ch_size=3, action_size=4, seed=6, cnn_1=64, cnn_2=32, unit_1=64, unit_2=32) # Model\n",
    "qnet.load_state_dict(torch.load('DQN_FC.pth')) # Load Model\n",
    "qnet.eval() # Evaluation Mode"
   ]
  },
  {
   "cell_type": "markdown",
   "id": "df9263ad",
   "metadata": {
    "id": "73e0652e"
   },
   "source": [
    "### Get Test Data Images"
   ]
  },
  {
   "cell_type": "code",
   "execution_count": 7,
   "id": "bdd91df1",
   "metadata": {
    "id": "bdd91df1"
   },
   "outputs": [],
   "source": [
    "test_dir = 'Data/Test/' # Test Data Directory\n",
    "test_list = os.listdir(test_dir) # Test Image Names"
   ]
  },
  {
   "cell_type": "markdown",
   "id": "de0ee101",
   "metadata": {
    "id": "9f208b87"
   },
   "source": [
    "### Normal Condition"
   ]
  },
  {
   "cell_type": "code",
   "execution_count": 8,
   "id": "32fcedc2",
   "metadata": {
    "id": "32fcedc2"
   },
   "outputs": [
    {
     "name": "stdout",
     "output_type": "stream",
     "text": [
      "Real State: Normal\n",
      "Predicted Fault: Normal State\n"
     ]
    },
    {
     "data": {
      "image/png": "[encoded data removed]",
      "text/plain": [
       "<Figure size 432x432 with 1 Axes>"
      ]
     },
     "metadata": {
      "needs_background": "light"
     },
     "output_type": "display_data"
    }
   ],
   "source": [
    "image = plt.imread(test_dir + test_list[0]) # Read  Image\n",
    "image = image.reshape((3,64,64))            # Reshape Image\n",
    "Agent.test_agent(qnet, image, test_list[0]) # Test Agent"
   ]
  },
  {
   "cell_type": "markdown",
   "id": "5cf07bc6",
   "metadata": {
    "id": "b5099396"
   },
   "source": [
    "### Inner Race Fault"
   ]
  },
  {
   "cell_type": "code",
   "execution_count": 9,
   "id": "f1d3d2ce",
   "metadata": {
    "id": "f1d3d2ce"
   },
   "outputs": [
    {
     "name": "stdout",
     "output_type": "stream",
     "text": [
      "Real State: Inner Race Fault\n",
      "Predicted Fault: Outer Race Fault\n"
     ]
    },
    {
     "data": {
      "image/png": "[encoded data removed]",
      "text/plain": [
       "<Figure size 432x432 with 1 Axes>"
      ]
     },
     "metadata": {
      "needs_background": "light"
     },
     "output_type": "display_data"
    }
   ],
   "source": [
    "image = plt.imread(test_dir + test_list[9]) # Read  Image\n",
    "image = image.reshape((3,64,64))            # Reshape Image\n",
    "Agent.test_agent(qnet, image, test_list[9]) # Test Agent"
   ]
  },
  {
   "cell_type": "markdown",
   "id": "a60798ab",
   "metadata": {},
   "source": [
    "### Ball Fault"
   ]
  },
  {
   "cell_type": "code",
   "execution_count": 10,
   "id": "8f8f788b",
   "metadata": {},
   "outputs": [
    {
     "name": "stdout",
     "output_type": "stream",
     "text": [
      "Real State: Ball Fault\n",
      "Predicted Fault: Ball Fault\n"
     ]
    },
    {
     "data": {
      "image/png": "[encoded data removed]",
      "text/plain": [
       "<Figure size 432x432 with 1 Axes>"
      ]
     },
     "metadata": {
      "needs_background": "light"
     },
     "output_type": "display_data"
    }
   ],
   "source": [
    "image = plt.imread(test_dir + test_list[4000]) # Read  Image\n",
    "image = image.reshape((3,64,64))              # Reshape Image\n",
    "Agent.test_agent(qnet, image, test_list[4000]) # Test Agent"
   ]
  },
  {
   "cell_type": "markdown",
   "id": "a93ea223",
   "metadata": {},
   "source": [
    "### Outer Race Fault"
   ]
  },
  {
   "cell_type": "code",
   "execution_count": 11,
   "id": "e4ebc3d8",
   "metadata": {},
   "outputs": [
    {
     "name": "stdout",
     "output_type": "stream",
     "text": [
      "Real State: Outer Race Fault\n",
      "Predicted Fault: Outer Race Fault\n"
     ]
    },
    {
     "data": {
      "image/png": "[encoded data removed]",
      "text/plain": [
       "<Figure size 432x432 with 1 Axes>"
      ]
     },
     "metadata": {
      "needs_background": "light"
     },
     "output_type": "display_data"
    }
   ],
   "source": [
    "image = plt.imread(test_dir + test_list[3900]) # Read  Image\n",
    "image = image.reshape((3,64,64))              # Reshape Image\n",
    "Agent.test_agent(qnet, image, test_list[3900]) # Test Agent"
   ]
  },
  {
   "cell_type": "markdown",
   "id": "9160bcfb",
   "metadata": {},
   "source": [
    "### Accuracy of Agent"
   ]
  },
  {
   "cell_type": "code",
   "execution_count": 19,
   "id": "6e009ab5",
   "metadata": {},
   "outputs": [
    {
     "name": "stdout",
     "output_type": "stream",
     "text": [
      "Total Images in Test Set:  21657 Images\n",
      "Highest Score that can be obtained:  21657\n",
      "Score Obtained with trained agent:  20082\n",
      "Accuracy of Agent:  93.0  %\n"
     ]
    }
   ],
   "source": [
    "Agent.test(qnet, test_dir) # Test Accuracy on unseen data"
   ]
  },
  {
   "cell_type": "code",
   "execution_count": null,
   "id": "f94d2a16",
   "metadata": {},
   "outputs": [],
   "source": []
  },
  {
   "cell_type": "code",
   "execution_count": null,
   "id": "79f102aa",
   "metadata": {},
   "outputs": [],
   "source": []
  }
 ],
 "metadata": {
  "colab": {
   "collapsed_sections": [],
   "name": "DQN for Bearing Fault Classification.ipynb",
   "provenance": []
  },
  "kernelspec": {
   "display_name": "Python 3 (ipykernel)",
   "language": "python",
   "name": "python3"
  },
  "language_info": {
   "codemirror_mode": {
    "name": "ipython",
    "version": 3
   },
   "file_extension": ".py",
   "mimetype": "text/x-python",
   "name": "python",
   "nbconvert_exporter": "python",
   "pygments_lexer": "ipython3",
   "version": "3.9.7"
  }
 },
 "nbformat": 4,
 "nbformat_minor": 5
}
